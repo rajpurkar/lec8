{
 "cells": [
  {
   "cell_type": "code",
   "execution_count": 3,
   "metadata": {},
   "outputs": [
    {
     "name": "stdout",
     "output_type": "stream",
     "text": [
      "lr: 0.1\n",
      "epoch=2, acc=0.6113297414325795, loss=0.6357434887652657\n",
      "epoch=3, acc=0.4867818863034905, loss=0.26336862433125774\n",
      "epoch=4, acc=0.779252306163743, loss=0.17306613842270677\n",
      "epoch=5, acc=0.6886609053658387, loss=0.1904305958043504\n",
      "epoch=6, acc=0.783812337791933, loss=0.1852443625212965\n",
      "epoch=7, acc=0.8566481562883611, loss=0.24638770158601944\n",
      "epoch=8, acc=0.8624480991168365, loss=0.1081314951159142\n",
      "epoch=9, acc=0.8146400651432021, loss=0.1929127637160774\n",
      "lr: 0.01\n",
      "epoch=2, acc=0.3117745973511415, loss=0.47330423379676845\n",
      "epoch=3, acc=0.5578269021060392, loss=0.4228249656229493\n",
      "epoch=4, acc=0.6592938181926947, loss=0.327493127557249\n",
      "epoch=5, acc=0.7865387542851918, loss=0.23501239803485988\n",
      "epoch=6, acc=0.9130881998696568, loss=0.17252410996507642\n",
      "epoch=7, acc=0.8638047648954926, loss=0.1397651227348384\n",
      "epoch=8, acc=0.9238615750690377, loss=0.1670139561051789\n",
      "epoch=9, acc=0.8644756928485569, loss=0.09044220041755423\n",
      "lr: 0.001\n",
      "epoch=2, acc=0.38396892331911137, loss=0.898196212033898\n",
      "epoch=3, acc=0.5878005046610476, loss=0.36217896321566134\n",
      "epoch=4, acc=0.6653519165008409, loss=0.39203027384446115\n",
      "epoch=5, acc=0.7236996182610457, loss=0.20852328089616085\n",
      "epoch=6, acc=0.6809911291522801, loss=0.26767845118189093\n",
      "epoch=7, acc=0.7966396529786097, loss=0.2856077521103661\n",
      "epoch=8, acc=0.810233215433622, loss=0.23974173663518733\n",
      "epoch=9, acc=0.7899448906438665, loss=0.227781952315635\n",
      "lr: 0.0001\n",
      "epoch=2, acc=0.5606579267413544, loss=0.5152752100749178\n",
      "epoch=3, acc=0.5494876619027741, loss=0.2156756094801315\n",
      "epoch=4, acc=0.6541977137837148, loss=0.11514118477841778\n",
      "epoch=5, acc=0.8472029401315144, loss=0.08047746478988575\n",
      "epoch=6, acc=0.8226708317962453, loss=0.13654873512222582\n",
      "epoch=7, acc=0.9465047741815227, loss=0.06755368556733427\n",
      "epoch=8, acc=0.9114713026359993, loss=0.12392889235511632\n",
      "epoch=9, acc=0.9242636200918029, loss=0.04489932710985012\n"
     ]
    }
   ],
   "source": [
    "import random\n",
    "\n",
    "def run_training_run(lr):\n",
    "    epochs = 10\n",
    "    offset = random.random() / 5\n",
    "    print(f\"lr: {lr}\")\n",
    "    for epoch in range(2, epochs):\n",
    "        # simulating a training run\n",
    "        acc = 1 - 2 ** -epoch - random.random() / epoch - offset\n",
    "        loss = 2 ** -epoch + random.random() / epoch + offset\n",
    "        print(f\"epoch={epoch}, acc={acc}, loss={loss}\")\n",
    "\n",
    "# run a training run with a learning rate of 0.1\n",
    "run_training_run(0.1)\n",
    "\n",
    "# Try different values for the learning rate\n",
    "lrs = [0.01, 0.001, 0.0001]\n",
    "for lr in lrs:\n",
    "    run_training_run(lr)"
   ]
  },
  {
   "cell_type": "code",
   "execution_count": null,
   "metadata": {},
   "outputs": [],
   "source": []
  }
 ],
 "metadata": {
  "kernelspec": {
   "display_name": "Python 3.10.4 ('lec8')",
   "language": "python",
   "name": "python3"
  },
  "language_info": {
   "codemirror_mode": {
    "name": "ipython",
    "version": 3
   },
   "file_extension": ".py",
   "mimetype": "text/x-python",
   "name": "python",
   "nbconvert_exporter": "python",
   "pygments_lexer": "ipython3",
   "version": "3.10.4"
  },
  "orig_nbformat": 4,
  "vscode": {
   "interpreter": {
    "hash": "e63bb11dc366f1752bcd2c21a297c18ab4fc85253fdd8d3572362519cf492d62"
   }
  }
 },
 "nbformat": 4,
 "nbformat_minor": 2
}
