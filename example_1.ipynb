{
 "cells": [
  {
   "cell_type": "code",
   "execution_count": null,
   "metadata": {},
   "outputs": [],
   "source": [
    "import random\n",
    "\n",
    "def run_training_run_txt_log(epochs, lr):\n",
    "    offset = random.random() / 5\n",
    "    print(f\"Training for {epochs} epochs with learning rate {lr}\")\n",
    "    for epoch in range(2, epochs):\n",
    "        # simulating a training run\n",
    "        acc = 1 - 2 ** -epoch - random.random() / epoch - offset\n",
    "        loss = 2 ** -epoch + random.random() / epoch + offset\n",
    "        print(f\"epoch={epoch}, acc={acc}, loss={loss}\")\n",
    "\n",
    "# run a training run with a learning rate of 0.1\n",
    "run_training_run_txt_log(epochs=10, lr=0.01)"
   ]
  },
  {
   "cell_type": "code",
   "execution_count": null,
   "metadata": {},
   "outputs": [],
   "source": [
    "# Log in to your W&B account\n",
    "import wandb\n",
    "wandb.login()"
   ]
  },
  {
   "cell_type": "code",
   "execution_count": null,
   "metadata": {},
   "outputs": [],
   "source": [
    "import random \n",
    "def run_training_run(epochs, lr):\n",
    "      print(f\"Training for {epochs} epochs with learning rate {lr}\")\n",
    "\n",
    "      wandb.init(\n",
    "            # Set the project where this run will be logged\n",
    "            project=\"example2\", \n",
    "            # Track hyperparameters and run metadata\n",
    "            config={\n",
    "            \"learning_rate\": lr,\n",
    "            \"epochs\": epochs,\n",
    "            })\n",
    "      \n",
    "      offset = random.random() / 5\n",
    "      print(f\"lr: {lr}\")\n",
    "      for epoch in range(2, epochs):\n",
    "            # simulating a training run\n",
    "            acc = 1 - 2 ** -epoch - random.random() / epoch - offset\n",
    "            loss = 2 ** -epoch + random.random() / epoch + offset\n",
    "            print(f\"epoch={epoch}, acc={acc}, loss={loss}\")\n",
    "            wandb.log({\"acc\": acc, \"loss\": loss})\n",
    "\n",
    "      wandb.finish()\n",
    "\n",
    "run_training_run(epochs=10, lr=0.01)"
   ]
  },
  {
   "cell_type": "code",
   "execution_count": null,
   "metadata": {},
   "outputs": [],
   "source": [
    "def run_multiple_training_runs(epochs, lrs):\n",
    "    for epoch in epochs:\n",
    "        for lr in lrs:\n",
    "            run_training_run(epoch, lr)\n",
    "\n",
    "# Try different values for the learning rate\n",
    "epochs = [100, 120, 140]\n",
    "lrs = [0.1, 0.01, 0.001, 0.0001]\n",
    "run_multiple_training_runs(epochs, lrs)"
   ]
  }
 ],
 "metadata": {
  "kernelspec": {
   "display_name": "Python 3.10.4 ('lec8')",
   "language": "python",
   "name": "python3"
  },
  "language_info": {
   "codemirror_mode": {
    "name": "ipython",
    "version": 3
   },
   "file_extension": ".py",
   "mimetype": "text/x-python",
   "name": "python",
   "nbconvert_exporter": "python",
   "pygments_lexer": "ipython3",
   "version": "3.10.4"
  },
  "orig_nbformat": 4,
  "vscode": {
   "interpreter": {
    "hash": "e63bb11dc366f1752bcd2c21a297c18ab4fc85253fdd8d3572362519cf492d62"
   }
  }
 },
 "nbformat": 4,
 "nbformat_minor": 2
}
